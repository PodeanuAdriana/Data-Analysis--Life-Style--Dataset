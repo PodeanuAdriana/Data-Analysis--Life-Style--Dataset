{
 "cells": [
  {
   "cell_type": "code",
   "execution_count": null,
   "id": "0da8c889",
   "metadata": {},
   "outputs": [],
   "source": [
    "LifeStyle dataset  Analisys"
   ]
  },
  {
   "cell_type": "code",
   "execution_count": 1,
   "id": "951c9244",
   "metadata": {},
   "outputs": [],
   "source": [
    "import pandas as pd\n",
    "import numpy as np\n"
   ]
  },
  {
   "cell_type": "code",
   "execution_count": 6,
   "id": "c6ede850",
   "metadata": {},
   "outputs": [
    {
     "data": {
      "text/html": [
       "<div>\n",
       "<style scoped>\n",
       "    .dataframe tbody tr th:only-of-type {\n",
       "        vertical-align: middle;\n",
       "    }\n",
       "\n",
       "    .dataframe tbody tr th {\n",
       "        vertical-align: top;\n",
       "    }\n",
       "\n",
       "    .dataframe thead th {\n",
       "        text-align: right;\n",
       "    }\n",
       "</style>\n",
       "<table border=\"1\" class=\"dataframe\">\n",
       "  <thead>\n",
       "    <tr style=\"text-align: right;\">\n",
       "      <th></th>\n",
       "      <th>Age</th>\n",
       "      <th>Gender</th>\n",
       "      <th>Weight (kg)</th>\n",
       "      <th>Height (m)</th>\n",
       "      <th>Max_BPM</th>\n",
       "      <th>Avg_BPM</th>\n",
       "      <th>Resting_BPM</th>\n",
       "      <th>Session_Duration (hours)</th>\n",
       "      <th>Calories_Burned</th>\n",
       "      <th>Workout_Type</th>\n",
       "      <th>...</th>\n",
       "      <th>cal_from_macros</th>\n",
       "      <th>pct_carbs</th>\n",
       "      <th>protein_per_kg</th>\n",
       "      <th>pct_HRR</th>\n",
       "      <th>pct_maxHR</th>\n",
       "      <th>cal_balance</th>\n",
       "      <th>lean_mass_kg</th>\n",
       "      <th>expected_burn</th>\n",
       "      <th>Burns Calories (per 30 min)_bc</th>\n",
       "      <th>Burns_Calories_Bin</th>\n",
       "    </tr>\n",
       "  </thead>\n",
       "  <tbody>\n",
       "    <tr>\n",
       "      <th>0</th>\n",
       "      <td>34.91</td>\n",
       "      <td>Male</td>\n",
       "      <td>65.27</td>\n",
       "      <td>1.62</td>\n",
       "      <td>188.58</td>\n",
       "      <td>157.65</td>\n",
       "      <td>69.05</td>\n",
       "      <td>1.00</td>\n",
       "      <td>1080.90</td>\n",
       "      <td>Strength</td>\n",
       "      <td>...</td>\n",
       "      <td>2139.59</td>\n",
       "      <td>0.500432</td>\n",
       "      <td>1.624789</td>\n",
       "      <td>0.741237</td>\n",
       "      <td>0.835985</td>\n",
       "      <td>725.10</td>\n",
       "      <td>47.777394</td>\n",
       "      <td>685.1600</td>\n",
       "      <td>7.260425e+19</td>\n",
       "      <td>Medium</td>\n",
       "    </tr>\n",
       "    <tr>\n",
       "      <th>1</th>\n",
       "      <td>23.37</td>\n",
       "      <td>Female</td>\n",
       "      <td>56.41</td>\n",
       "      <td>1.55</td>\n",
       "      <td>179.43</td>\n",
       "      <td>131.75</td>\n",
       "      <td>73.18</td>\n",
       "      <td>1.37</td>\n",
       "      <td>1809.91</td>\n",
       "      <td>HIIT</td>\n",
       "      <td>...</td>\n",
       "      <td>1711.65</td>\n",
       "      <td>0.500850</td>\n",
       "      <td>1.514093</td>\n",
       "      <td>0.551247</td>\n",
       "      <td>0.734270</td>\n",
       "      <td>-232.91</td>\n",
       "      <td>40.809803</td>\n",
       "      <td>978.6184</td>\n",
       "      <td>1.020506e+20</td>\n",
       "      <td>High</td>\n",
       "    </tr>\n",
       "    <tr>\n",
       "      <th>2</th>\n",
       "      <td>33.20</td>\n",
       "      <td>Female</td>\n",
       "      <td>58.98</td>\n",
       "      <td>1.67</td>\n",
       "      <td>175.04</td>\n",
       "      <td>123.95</td>\n",
       "      <td>54.96</td>\n",
       "      <td>0.91</td>\n",
       "      <td>802.26</td>\n",
       "      <td>Cardio</td>\n",
       "      <td>...</td>\n",
       "      <td>1965.92</td>\n",
       "      <td>0.500610</td>\n",
       "      <td>1.663445</td>\n",
       "      <td>0.574534</td>\n",
       "      <td>0.708124</td>\n",
       "      <td>805.74</td>\n",
       "      <td>44.635580</td>\n",
       "      <td>654.5266</td>\n",
       "      <td>1.079607e+20</td>\n",
       "      <td>High</td>\n",
       "    </tr>\n",
       "  </tbody>\n",
       "</table>\n",
       "<p>3 rows × 54 columns</p>\n",
       "</div>"
      ],
      "text/plain": [
       "     Age  Gender  Weight (kg)  Height (m)  Max_BPM  Avg_BPM  Resting_BPM  \\\n",
       "0  34.91    Male        65.27        1.62   188.58   157.65        69.05   \n",
       "1  23.37  Female        56.41        1.55   179.43   131.75        73.18   \n",
       "2  33.20  Female        58.98        1.67   175.04   123.95        54.96   \n",
       "\n",
       "   Session_Duration (hours)  Calories_Burned Workout_Type  ...  \\\n",
       "0                      1.00          1080.90     Strength  ...   \n",
       "1                      1.37          1809.91         HIIT  ...   \n",
       "2                      0.91           802.26       Cardio  ...   \n",
       "\n",
       "   cal_from_macros  pct_carbs  protein_per_kg   pct_HRR  pct_maxHR  \\\n",
       "0          2139.59   0.500432        1.624789  0.741237   0.835985   \n",
       "1          1711.65   0.500850        1.514093  0.551247   0.734270   \n",
       "2          1965.92   0.500610        1.663445  0.574534   0.708124   \n",
       "\n",
       "   cal_balance  lean_mass_kg  expected_burn  Burns Calories (per 30 min)_bc  \\\n",
       "0       725.10     47.777394       685.1600                    7.260425e+19   \n",
       "1      -232.91     40.809803       978.6184                    1.020506e+20   \n",
       "2       805.74     44.635580       654.5266                    1.079607e+20   \n",
       "\n",
       "   Burns_Calories_Bin  \n",
       "0              Medium  \n",
       "1                High  \n",
       "2                High  \n",
       "\n",
       "[3 rows x 54 columns]"
      ]
     },
     "execution_count": 6,
     "metadata": {},
     "output_type": "execute_result"
    }
   ],
   "source": [
    "setdate=pd.read_csv(r'Date/Final_data.csv')\n",
    "setdate.head(3)\n",
    "\n"
   ]
  },
  {
   "cell_type": "code",
   "execution_count": 14,
   "id": "ddaa2f4b",
   "metadata": {},
   "outputs": [],
   "source": [
    "gender=setdate[\"Gender\"]\n",
    "weight=setdate[\"Weight (kg)\"]\n",
    "height=setdate[\"Height (m)\"]\n",
    "duration=setdate[\"Session_Duration (hours)\"]\n",
    "calories=setdate[\"Calories_Burned\"]\n",
    "workout=setdate[\"Workout_Type\"]"
   ]
  },
  {
   "cell_type": "code",
   "execution_count": null,
   "id": "5a4449be",
   "metadata": {},
   "outputs": [],
   "source": [
    "Calculez Mean  cu formula predefinita"
   ]
  },
  {
   "cell_type": "code",
   "execution_count": 15,
   "id": "42cb0a93",
   "metadata": {},
   "outputs": [
    {
     "name": "stdout",
     "output_type": "stream",
     "text": [
      "73.8988315000002\n"
     ]
    }
   ],
   "source": [
    "weight_mean=weight.mean()\n",
    "print(weight_mean)\n",
    "height_mean=height.mean()\n",
    "print(height_mean)"
   ]
  },
  {
   "cell_type": "code",
   "execution_count": null,
   "id": "00f90564",
   "metadata": {},
   "outputs": [],
   "source": [
    "Calculez variante "
   ]
  },
  {
   "cell_type": "code",
   "execution_count": 19,
   "id": "7ebaf973",
   "metadata": {},
   "outputs": [
    {
     "name": "stdout",
     "output_type": "stream",
     "text": [
      "448.2963379565025\n",
      "0.01613733212435689\n"
     ]
    }
   ],
   "source": [
    "weight_var=weight.var()\n",
    "print(weight_var)\n",
    "height_var=height.var()\n",
    "print(height_var)"
   ]
  },
  {
   "cell_type": "code",
   "execution_count": null,
   "id": "77a70146",
   "metadata": {},
   "outputs": [],
   "source": []
  }
 ],
 "metadata": {
  "kernelspec": {
   "display_name": "Python 3 (ipykernel)",
   "language": "python",
   "name": "python3"
  },
  "language_info": {
   "codemirror_mode": {
    "name": "ipython",
    "version": 3
   },
   "file_extension": ".py",
   "mimetype": "text/x-python",
   "name": "python",
   "nbconvert_exporter": "python",
   "pygments_lexer": "ipython3",
   "version": "3.7.16"
  }
 },
 "nbformat": 4,
 "nbformat_minor": 5
}
